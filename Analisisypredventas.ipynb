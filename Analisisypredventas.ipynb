{
  "nbformat": 4,
  "nbformat_minor": 0,
  "metadata": {
    "colab": {
      "provenance": [],
      "authorship_tag": "ABX9TyPqrXzRPx7EaK3FmojE3hZV",
      "include_colab_link": true
    },
    "kernelspec": {
      "name": "python3",
      "display_name": "Python 3"
    },
    "language_info": {
      "name": "python"
    }
  },
  "cells": [
    {
      "cell_type": "markdown",
      "metadata": {
        "id": "view-in-github",
        "colab_type": "text"
      },
      "source": [
        "<a href=\"https://colab.research.google.com/github/Juan-Edwards/retail-sales-analysis/blob/main/Analisisypredventas.ipynb\" target=\"_parent\"><img src=\"https://colab.research.google.com/assets/colab-badge.svg\" alt=\"Open In Colab\"/></a>"
      ]
    },
    {
      "cell_type": "code",
      "execution_count": null,
      "metadata": {
        "id": "MVbZc7rG-a9E"
      },
      "outputs": [],
      "source": [
        "import numpy as np\n",
        "\n",
        "def cargar_datos(ruta_archivo):\n",
        "    # Carga los datos del archivo CSV utilizando NumPy\n",
        "    datos = np.genfromtxt(ruta_archivo, delimiter=',', skip_header=1, dtype=str) # faltaba el dtype para que conservara los valores del string\n",
        "    return datos\n",
        "\n",
        "if __name__ == \"__main__\":\n",
        "    ruta_archivo = \"C:\\\\Users\\\\Juan\\\\Downloads\\\\retail_sales_dataset.csv\"\n",
        "    datos = cargar_datos(ruta_archivo)\n",
        "    print(datos)\n",
        "\n",
        "sales=cargar_datos(\"C:\\\\Users\\\\Juan\\\\Downloads\\\\retail_sales_dataset.csv\")"
      ]
    },
    {
      "cell_type": "code",
      "source": [
        "print(\"Tamaño del dataset: \",np.shape(sales))\n",
        "print(\"Dimensiones del dataset: \",np.ndim(sales))"
      ],
      "metadata": {
        "id": "PWCjt3s7-h1C"
      },
      "execution_count": null,
      "outputs": []
    },
    {
      "cell_type": "code",
      "source": [
        "Trans_ID=sales[0:,0]\n",
        "Date=sales[0:,1]\n",
        "Customer_ID=sales[0:,2]\n",
        "Gender=sales[0:,3]\n",
        "Age=sales[0:,4]\n",
        "productos=sales[0:, 5]\n",
        "cantidades= sales[0:,6].astype(float)\n",
        "precio=sales[0:,7].astype(float)\n",
        "Monto=sales[0:,8].astype(float)"
      ],
      "metadata": {
        "id": "yv1H8-RkZZ5n"
      },
      "execution_count": null,
      "outputs": []
    },
    {
      "cell_type": "markdown",
      "source": [
        "#Calcula el total de ventas por producto y por tienda, creo que no hay datos de las tiendas solo de los distintos productos\n"
      ],
      "metadata": {
        "id": "ywz1-tqkZfER"
      }
    },
    {
      "cell_type": "code",
      "source": [
        "productos_unicos = np.unique(productos)\n",
        "total_ventas_producto = {}\n",
        "for producto in productos_unicos:\n",
        "    suma_ventas = np.sum(cantidades[productos == producto])\n",
        "\n",
        "    total_ventas_producto[producto] = suma_ventas\n",
        "\n",
        "for producto, total in total_ventas_producto.items():\n",
        "    print(f\"Producto: {producto}, Total Vendido: {total}\")\n"
      ],
      "metadata": {
        "id": "4alyza-UZc6I"
      },
      "execution_count": null,
      "outputs": []
    },
    {
      "cell_type": "markdown",
      "source": [
        "#Calcula el promedio de ventas diarias por producto y por tienda."
      ],
      "metadata": {
        "id": "VXkMvLoZZlF2"
      }
    },
    {
      "cell_type": "code",
      "source": [
        "productos_unicos = np.unique(productos)\n",
        "promedio_ventas_producto = {}\n",
        "for producto in productos_unicos:\n",
        "    prmdio_ventas = np.mean(cantidades[productos == producto])\n",
        "\n",
        "    promedio_ventas_producto[producto] = prmdio_ventas\n",
        "\n",
        "for producto, total in promedio_ventas_producto.items():\n",
        "    print(f\"Producto: {producto}, Promedio Vendido: {round(total,2)}\")"
      ],
      "metadata": {
        "id": "nt54z96UZmCj"
      },
      "execution_count": null,
      "outputs": []
    },
    {
      "cell_type": "markdown",
      "source": [
        "#Identifica los productos y tiendas con mayores y menores ventas."
      ],
      "metadata": {
        "id": "nNr_CHfjZoFN"
      }
    },
    {
      "cell_type": "code",
      "source": [
        "producto_maximo= max(total_ventas_producto, key=total_ventas_producto.get)\n",
        "\n",
        "valor_max=total_ventas_producto[producto_maximo]\n",
        "print(\"El valor maximo es: \",valor_max)\n",
        "\n",
        "\n",
        "producto_minimo= min(total_ventas_producto, key=total_ventas_producto.get)\n",
        "\n",
        "valor_min=total_ventas_producto[producto_minimo]\n",
        "print(\"El valor minimo es: \", valor_min)\n"
      ],
      "metadata": {
        "id": "x0aLlR9fZr1S"
      },
      "execution_count": null,
      "outputs": []
    }
  ]
}